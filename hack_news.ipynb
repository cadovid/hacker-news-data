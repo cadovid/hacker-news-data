{
 "cells": [
  {
   "cell_type": "markdown",
   "metadata": {
    "collapsed": true
   },
   "source": [
    "## Analysis of a forum-like website\n",
    "\n",
    "In this project the objective will be to analyze the dataset of submissions to the popular technology site [Hacker News](https://news.ycombinator.com/).\n",
    "\n",
    "Hacker News is a site started by the startup incubator [Y Combinator](https://www.ycombinator.com/), where user-submitted stories (known as \"posts\") are voted and commented upon, similar to reddit. Hacker News is extremely popular in technology and startup circles, and posts that make it to the top of Hacker News' listings can get hundreds of thousands of visitors as a result.\n",
    "\n",
    "The complete dataset is available [here](https://www.kaggle.com/hacker-news/hacker-news-posts), with a brief description of all the features present in it. The general structure of the first features of the dataset is provided as an example below:\n",
    "\n",
    "| id | title | url | num_points | num_comments | author | created_at |\n",
    "|---|---|---|---|---|--- |---|\n",
    "| 12224879 | Interactive Dynamic Video | http://www.interactivedynamicvideo.com/ | 386 | 52 | ne0phyte | 8/4/2016 11:52 |"
   ]
  },
  {
   "cell_type": "code",
   "execution_count": 6,
   "metadata": {
    "collapsed": false
   },
   "outputs": [
    {
     "name": "stdout",
     "output_type": "stream",
     "text": [
      "['id', 'title', 'url', 'num_points', 'num_comments', 'author', 'created_at']\n",
      "['12224879', 'Interactive Dynamic Video', 'http://www.interactivedynamicvideo.com/', '386', '52', 'ne0phyte', '8/4/2016 11:52']\n",
      "\n",
      "\n",
      "['10975351', 'How to Use Open Source and Shut the Fuck Up at the Same Time', 'http://hueniverse.com/2016/01/26/how-to-use-open-source-and-shut-the-fuck-up-at-the-same-time/', '39', '10', 'josep2', '1/26/2016 19:30']\n",
      "\n",
      "\n",
      "['11964716', \"Florida DJs May Face Felony for April Fools' Water Joke\", 'http://www.thewire.com/entertainment/2013/04/florida-djs-april-fools-water-joke/63798/', '2', '1', 'vezycash', '6/23/2016 22:20']\n",
      "\n",
      "\n",
      "['11919867', 'Technology ventures: From Idea to Enterprise', 'https://www.amazon.com/Technology-Ventures-Enterprise-Thomas-Byers/dp/0073523429', '3', '1', 'hswarna', '6/17/2016 0:01']\n",
      "\n",
      "\n",
      "['10301696', 'Note by Note: The Making of Steinway L1037 (2007)', 'http://www.nytimes.com/2007/11/07/movies/07stein.html?_r=0', '8', '2', 'walterbell', '9/30/2015 4:12']\n",
      "\n",
      "\n"
     ]
    }
   ],
   "source": [
    "# Importing and managing the dataset #\n",
    "\n",
    "def import_dataset(dataset):\n",
    "    from csv import reader\n",
    "    \n",
    "    opened_file = open(dataset)\n",
    "    read_file = reader(opened_file)\n",
    "    dataset = list(read_file)\n",
    "    return dataset[0], dataset[1:]\n",
    "\n",
    "# Function to print the first rows of the dataset #\n",
    "\n",
    "def print_rows(dataset, n_rows):\n",
    "    for row in dataset[:n_rows]:\n",
    "        print(row)\n",
    "        print('\\n')\n",
    "        \n",
    "# Code #\n",
    "\n",
    "headers, hn = import_dataset('hacker_news.csv')\n",
    "print(headers)\n",
    "print_rows(hn, 5)"
   ]
  },
  {
   "cell_type": "markdown",
   "metadata": {
    "collapsed": true
   },
   "source": [
    "For the dataset we're specifically interested in posts whose titles begin with either _Ask HN_ or _Show HN_. Users submit Ask HN posts to ask the Hacker News community a specific question. Likewise, users submit Show HN posts to show the Hacker News community a project, product, or just generally something interesting. We'll compare these two types of posts to determine if:\n",
    "- Do Ask HN or Show HN receive more comments on average?\n",
    "- Do posts created at a certain time receive more comments on average?"
   ]
  },
  {
   "cell_type": "code",
   "execution_count": 11,
   "metadata": {
    "collapsed": false
   },
   "outputs": [
    {
     "name": "stdout",
     "output_type": "stream",
     "text": [
      "The number of posts as Ask HN is:  1744\n",
      "The number of posts as Show HN is:  1162\n",
      "The number of other posts is:  18938\n",
      "\n",
      "\n",
      "['12296411', 'Ask HN: How to improve my personal website?', '', '2', '6', 'ahmedbaracat', '8/16/2016 9:55']\n",
      "\n",
      "\n",
      "['10610020', 'Ask HN: Am I the only one outraged by Twitter shutting down share counts?', '', '28', '29', 'tkfx', '11/22/2015 13:43']\n",
      "\n",
      "\n",
      "['11610310', 'Ask HN: Aby recent changes to CSS that broke mobile?', '', '1', '1', 'polskibus', '5/2/2016 10:14']\n",
      "\n",
      "\n",
      "['12210105', 'Ask HN: Looking for Employee #3 How do I do it?', '', '1', '3', 'sph130', '8/2/2016 14:20']\n",
      "\n",
      "\n",
      "['10394168', 'Ask HN: Someone offered to buy my browser extension from me. What now?', '', '28', '17', 'roykolak', '10/15/2015 16:38']\n",
      "\n",
      "\n",
      "['10627194', 'Show HN: Wio Link  ESP8266 Based Web of Things Hardware Development Platform', 'https://iot.seeed.cc', '26', '22', 'kfihihc', '11/25/2015 14:03']\n",
      "\n",
      "\n",
      "['10646440', 'Show HN: Something pointless I made', 'http://dn.ht/picklecat/', '747', '102', 'dhotson', '11/29/2015 22:46']\n",
      "\n",
      "\n",
      "['11590768', 'Show HN: Shanhu.io, a programming playground powered by e8vm', 'https://shanhu.io', '1', '1', 'h8liu', '4/28/2016 18:05']\n",
      "\n",
      "\n",
      "['12178806', 'Show HN: Webscope  Easy way for web developers to communicate with Clients', 'http://webscopeapp.com', '3', '3', 'fastbrick', '7/28/2016 7:11']\n",
      "\n",
      "\n",
      "['10872799', 'Show HN: GeoScreenshot  Easily test Geo-IP based web pages', 'https://www.geoscreenshot.com/', '1', '9', 'kpsychwave', '1/9/2016 20:45']\n",
      "\n",
      "\n"
     ]
    }
   ],
   "source": [
    "# Code #\n",
    "\n",
    "ask_posts = []\n",
    "show_posts = []\n",
    "other_posts = []\n",
    "\n",
    "for row in hn:\n",
    "    title = row[1]\n",
    "    title = title.lower()\n",
    "    if title.startswith('ask hn'):\n",
    "        ask_posts.append(row)\n",
    "    if title.startswith('show hn'):\n",
    "        show_posts.append(row)\n",
    "    else:\n",
    "        other_posts.append(row)\n",
    "\n",
    "print('The number of posts as Ask HN is: ', len(ask_posts))\n",
    "print('The number of posts as Show HN is: ', len(show_posts))\n",
    "print('The number of other posts is: ', len(other_posts))\n",
    "print('\\n')\n",
    "print_rows(ask_posts, 5)\n",
    "print_rows(show_posts, 5)"
   ]
  },
  {
   "cell_type": "markdown",
   "metadata": {},
   "source": [
    "This far, we have shown that the number of posts labelled as \"Ask\" is higher than the number of posts labelled as \"Show\", and they both are quite smaller in number than the rest of the webiste's posts.\n",
    "\n",
    "\n",
    "\n",
    "Next, let's determine if ask posts or show posts receive more comments on average."
   ]
  },
  {
   "cell_type": "code",
   "execution_count": 12,
   "metadata": {
    "collapsed": false
   },
   "outputs": [
    {
     "name": "stdout",
     "output_type": "stream",
     "text": [
      "The average number of comments on ask posts is:  14.038417431192661\n",
      "The average number of comments on show posts is:  10.31669535283993\n"
     ]
    }
   ],
   "source": [
    "# Function to extract the total and average value of a given feature #\n",
    "\n",
    "def tot_avg_feat(dataset, index_f):\n",
    "    total = 0\n",
    "    for row in dataset:\n",
    "        value = int(row[index_f])\n",
    "        total += value\n",
    "    avg = total / len(dataset)\n",
    "    return total, avg\n",
    "\n",
    "\n",
    "# Code #\n",
    "\n",
    "total_ask_comments, avg_ask_comments = tot_avg_feat(ask_posts, 4)\n",
    "total_show_comments, avg_show_comments = tot_avg_feat(show_posts, 4)\n",
    "print('The average number of comments on ask posts is: ', avg_ask_comments)\n",
    "print('The average number of comments on show posts is: ', avg_show_comments)"
   ]
  },
  {
   "cell_type": "markdown",
   "metadata": {},
   "source": [
    "As we can see, in average the number of comments that an Ask post receive is higher than the number of comments of a Show post. The community is more active in requests from them than in showing them a project, product or something interesting.\n",
    "\n",
    "Since ask posts are more likely to receive comments, we'll focus our remaining analysis just on these posts.\n",
    "\n",
    "Next, we'll determine if ask posts created at a certain time are more likely to attract comments. We'll use the following steps to perform this analysis:\n",
    "\n",
    "    1. Calculate the amount of ask posts created in each hour of the day, along with the number of comments received.\n",
    "    2. Calculate the average number of comments ask posts receive by hour created.\n"
   ]
  },
  {
   "cell_type": "code",
   "execution_count": 22,
   "metadata": {
    "collapsed": false
   },
   "outputs": [
    {
     "name": "stdout",
     "output_type": "stream",
     "text": [
      "The number of posts created by hour is:\n",
      " [('15', 117), ('19', 111), ('18', 110), ('21', 110), ('16', 109), ('14', 108), ('17', 101), ('13', 86), ('20', 81), ('12', 74), ('22', 72), ('23', 69), ('01', 61), ('10', 60), ('11', 59), ('02', 59), ('00', 56), ('03', 55), ('08', 49), ('04', 48), ('05', 47), ('09', 46), ('06', 45), ('07', 35)]\n",
      "\n",
      "\n",
      "The number of comments received by hour is:\n",
      " [('15', 4478), ('16', 1831), ('21', 1749), ('20', 1724), ('18', 1441), ('14', 1419), ('02', 1384), ('13', 1282), ('19', 1191), ('17', 1147), ('10', 794), ('01', 716), ('12', 691), ('11', 643), ('23', 544), ('08', 497), ('05', 493), ('22', 481), ('00', 457), ('03', 422), ('06', 398), ('04', 340), ('07', 269), ('09', 257)]\n"
     ]
    }
   ],
   "source": [
    "# Code #\n",
    "\n",
    "import datetime as dt\n",
    "\n",
    "result_list = []\n",
    "\n",
    "for row in ask_posts:\n",
    "    creation_date = row[6]\n",
    "    n_comments = int(row[4])\n",
    "    result_list.append([creation_date, n_comments])\n",
    "\n",
    "counts_by_hour = {}\n",
    "comments_by_hour = {}\n",
    "\n",
    "for row in result_list:\n",
    "    datetime_format = \"%m/%d/%Y %H:%M\"\n",
    "    datetime = dt.datetime.strptime(row[0], datetime_format)\n",
    "    hour = datetime.strftime(\"%H\")\n",
    "    if hour not in counts_by_hour:\n",
    "        counts_by_hour[hour] = 1\n",
    "        comments_by_hour[hour] = row[1]\n",
    "    if hour in counts_by_hour:\n",
    "        counts_by_hour[hour] += 1\n",
    "        comments_by_hour[hour] += row[1]\n",
    "        \n",
    "        \n",
    "print('The number of posts created by hour is:\\n', sorted(counts_by_hour.items(), key=lambda item: item[1], reverse=True))\n",
    "print('\\n')\n",
    "print('The number of comments received by hour is:\\n', sorted(comments_by_hour.items(), key=lambda item: item[1], reverse=True))"
   ]
  },
  {
   "cell_type": "markdown",
   "metadata": {},
   "source": [
    "Several useful information can be obtained from this extracts. The best hour to receive comments is 15:00, followed by 16:00, 21:00 and 20:00. This coincides with the main hour at which a most number of post are created: 15:00, followed by 19:00, 18:00 and 21:00.\n",
    "\n",
    "However, we can see that the number of posts created is quite similar throughout the whole day. This is not true for tue number of comments received, as we can see a significant difference between the first 4 hours indicated and the rest of the day.\n",
    "\n",
    "As this are absolute values, we'll use these two dictionaries to calculate the average number of comments for posts created during each hour of the day. With that, we can have a better understanding of the global idea about the frequencies.  "
   ]
  },
  {
   "cell_type": "code",
   "execution_count": 34,
   "metadata": {
    "collapsed": false
   },
   "outputs": [
    {
     "name": "stdout",
     "output_type": "stream",
     "text": [
      "The average number of comments by post created by hour is:\n",
      " [['15', 38.27350427350427], ['02', 23.45762711864407], ['20', 21.28395061728395], ['16', 16.798165137614678], ['21', 15.9], ['13', 14.906976744186046], ['10', 13.233333333333333], ['14', 13.13888888888889], ['18', 13.1], ['01', 11.737704918032787], ['17', 11.356435643564357], ['11', 10.898305084745763], ['19', 10.72972972972973], ['05', 10.48936170212766], ['08', 10.142857142857142], ['12', 9.337837837837839], ['06', 8.844444444444445], ['00', 8.160714285714286], ['23', 7.884057971014493], ['07', 7.685714285714286], ['03', 7.672727272727273], ['04', 7.083333333333333], ['22', 6.680555555555555], ['09', 5.586956521739131]]\n"
     ]
    }
   ],
   "source": [
    "# Code #\n",
    "\n",
    "avg_by_hour = []\n",
    "\n",
    "for hour_1 in counts_by_hour:\n",
    "    for hour_2 in comments_by_hour:\n",
    "        if hour_1 == hour_2:\n",
    "            avg_by_hour.append([hour_1 , comments_by_hour[hour_1] / counts_by_hour[hour_1]])\n",
    "\n",
    "print('The average number of comments by post created by hour is:\\n', sorted(avg_by_hour, key=lambda item: item[1], reverse=True))       "
   ]
  },
  {
   "cell_type": "code",
   "execution_count": 49,
   "metadata": {
    "collapsed": false
   },
   "outputs": [
    {
     "name": "stdout",
     "output_type": "stream",
     "text": [
      "Top 5 Hours for Ask Posts Comments in EST\n",
      "\n",
      "15:00: 38.27 average comments per post\n",
      "02:00: 23.46 average comments per post\n",
      "20:00: 21.28 average comments per post\n",
      "16:00: 16.80 average comments per post\n",
      "21:00: 15.90 average comments per post\n"
     ]
    }
   ],
   "source": [
    "# Another way to sort the list and show results #\n",
    "\n",
    "swap_avg_by_hour = []\n",
    "\n",
    "for row in avg_by_hour:\n",
    "    swap_avg_by_hour.append([row[1], row[0]])\n",
    "\n",
    "sorted_swap = sorted(swap_avg_by_hour, reverse=True)\n",
    "\n",
    "print(\"Top 5 Hours for Ask Posts Comments in EST\\n\")\n",
    "for row in sorted_swap[:5]:\n",
    "    n_comments = row[0]\n",
    "    h_format = \"%H\"\n",
    "    hour = dt.datetime.strptime(row[1], h_format)\n",
    "    hour = hour.strftime(\"%H:%M\")\n",
    "    txt = \"{time}: {comments:.2f} average comments per post\"\n",
    "    print(txt.format(time=hour , comments=n_comments))"
   ]
  },
  {
   "cell_type": "markdown",
   "metadata": {},
   "source": [
    "The results confirm that the best hour to create a post in which the chances of receiving comments are higher is, by far, 15:00, followed by 2:00 and 20:00 in a certain distance.\n",
    "\n",
    "This analysis throw an interesting pattern: the more activity hours inside the forum are concentrated around post-lunch time and post-dinner time. This obeys to the particular fact that the website is mostly frequented by u.s. citizens.\n",
    "\n",
    "It is important to recall that the time zone is Eastern Time in the US, something to take into account if you plan to create a post in a different timezone. For example, for the Central European Summer Time (CEST) it would be necessary to add 6 hours to each one of the times previously calculated."
   ]
  },
  {
   "cell_type": "code",
   "execution_count": 51,
   "metadata": {
    "collapsed": false
   },
   "outputs": [
    {
     "name": "stdout",
     "output_type": "stream",
     "text": [
      "Top 5 Hours for Ask Posts Comments in CEST\n",
      "\n",
      "21:00: 38.27 average comments per post\n",
      "08:00: 23.46 average comments per post\n",
      "02:00: 21.28 average comments per post\n",
      "22:00: 16.80 average comments per post\n",
      "03:00: 15.90 average comments per post\n"
     ]
    }
   ],
   "source": [
    "# Conversion to CEST #\n",
    "\n",
    "print(\"Top 5 Hours for Ask Posts Comments in CEST\\n\")\n",
    "for row in sorted_swap[:5]:\n",
    "    n_comments = row[0]\n",
    "    h_format = \"%H\"\n",
    "    hour = dt.datetime.strptime(row[1], h_format)\n",
    "    hour += dt.timedelta(hours=6)\n",
    "    hour = hour.strftime(\"%H:%M\")\n",
    "    txt = \"{time}: {comments:.2f} average comments per post\"\n",
    "    print(txt.format(time=hour , comments=n_comments))"
   ]
  }
 ],
 "metadata": {
  "kernelspec": {
   "display_name": "Python 3",
   "language": "python",
   "name": "python3"
  },
  "language_info": {
   "codemirror_mode": {
    "name": "ipython",
    "version": 3
   },
   "file_extension": ".py",
   "mimetype": "text/x-python",
   "name": "python",
   "nbconvert_exporter": "python",
   "pygments_lexer": "ipython3",
   "version": "3.4.3"
  }
 },
 "nbformat": 4,
 "nbformat_minor": 2
}
